{
 "cells": [
  {
   "cell_type": "markdown",
   "id": "8b83a896",
   "metadata": {},
   "source": [
    "# 6.3 Supervised Machine Learning: Regression"
   ]
  },
  {
   "cell_type": "markdown",
   "id": "f80a6715",
   "metadata": {},
   "source": [
    "## Table of contents\n",
    "1. [Importing Libraries & Data](#imports)\n",
    "2. [Data Cleaning](#paragraph1)\n",
    "3. [Data prep for regression analysis](#paragraph2)\n",
    "4. [Regression analysis](#paragraph3)\n",
    "5. [Summary](#paragraph4)"
   ]
  },
  {
   "cell_type": "markdown",
   "id": "ed446abb",
   "metadata": {},
   "source": [
    "### 1. Importing Libraries & Data <a name=\"imports\"></a>"
   ]
  },
  {
   "cell_type": "code",
   "execution_count": 1,
   "id": "7ed67944",
   "metadata": {},
   "outputs": [],
   "source": [
    "import pandas as pd\n",
    "import numpy as np\n",
    "import seaborn as sns\n",
    "import matplotlib\n",
    "import matplotlib.pyplot as plt\n",
    "import os\n",
    "import sklearn\n",
    "from sklearn.model_selection import train_test_split \n",
    "from sklearn.linear_model import LinearRegression\n",
    "from sklearn.metrics import mean_squared_error, r2_score"
   ]
  },
  {
   "cell_type": "code",
   "execution_count": 2,
   "id": "ff5f82d5",
   "metadata": {},
   "outputs": [],
   "source": [
    "# This option ensures that the graphs you create are displayed within the notebook without the need to \"call\" them specifically.\n",
    "%matplotlib inline"
   ]
  },
  {
   "cell_type": "code",
   "execution_count": 3,
   "id": "740795c5",
   "metadata": {},
   "outputs": [],
   "source": [
    "path = r'C:\\Users\\deuts\\Desktop\\Airbnb'"
   ]
  },
  {
   "cell_type": "code",
   "execution_count": 4,
   "id": "40a4da2d",
   "metadata": {},
   "outputs": [],
   "source": [
    "df = pd.read_pickle(os.path.join(path, '02 Data', 'Prepared Data', 'airbnb_df.pkl'))"
   ]
  },
  {
   "cell_type": "markdown",
   "id": "c43d9d43",
   "metadata": {},
   "source": [
    "### 2. Data Cleaning <a name=\"paragraph1\"></a>"
   ]
  },
  {
   "cell_type": "code",
   "execution_count": 5,
   "id": "96748c6d",
   "metadata": {},
   "outputs": [
    {
     "data": {
      "text/plain": [
       "Index(['id', 'name', 'host_id', 'host_since', 'street', 'neighbourhood',\n",
       "       'city', 'state', 'zipcode', 'country', 'latitude', 'longitude',\n",
       "       'property_type', 'bedrooms', 'price', 'minimum_nights',\n",
       "       'availability_365', 'number_of_reviews', 'review_scores_rating',\n",
       "       'host_listings', 'reviews_per_month', 'price_group'],\n",
       "      dtype='object')"
      ]
     },
     "execution_count": 5,
     "metadata": {},
     "output_type": "execute_result"
    }
   ],
   "source": [
    "# Checking column names\n",
    "df.columns"
   ]
  },
  {
   "cell_type": "code",
   "execution_count": 6,
   "id": "f7fb7b80",
   "metadata": {},
   "outputs": [
    {
     "data": {
      "text/plain": [
       "(5213, 22)"
      ]
     },
     "execution_count": 6,
     "metadata": {},
     "output_type": "execute_result"
    }
   ],
   "source": [
    "# Checking shape\n",
    "df.shape"
   ]
  },
  {
   "cell_type": "code",
   "execution_count": 7,
   "id": "dbef9377",
   "metadata": {},
   "outputs": [
    {
     "data": {
      "text/plain": [
       "id                      0\n",
       "name                    0\n",
       "host_id                 0\n",
       "host_since              0\n",
       "street                  0\n",
       "neighbourhood           0\n",
       "city                    0\n",
       "state                   0\n",
       "zipcode                 0\n",
       "country                 0\n",
       "latitude                0\n",
       "longitude               0\n",
       "property_type           0\n",
       "bedrooms                0\n",
       "price                   0\n",
       "minimum_nights          0\n",
       "availability_365        0\n",
       "number_of_reviews       0\n",
       "review_scores_rating    0\n",
       "host_listings           0\n",
       "reviews_per_month       0\n",
       "price_group             0\n",
       "dtype: int64"
      ]
     },
     "execution_count": 7,
     "metadata": {},
     "output_type": "execute_result"
    }
   ],
   "source": [
    "# Checking for missing values\n",
    "df.isnull().sum()\n",
    "\n",
    "# No missing values"
   ]
  },
  {
   "cell_type": "code",
   "execution_count": 8,
   "id": "161ce0cd",
   "metadata": {},
   "outputs": [],
   "source": [
    "# Checking for duplicates\n",
    "dups = df.duplicated()"
   ]
  },
  {
   "cell_type": "code",
   "execution_count": 9,
   "id": "e6851ac2",
   "metadata": {},
   "outputs": [
    {
     "data": {
      "text/plain": [
       "(5213,)"
      ]
     },
     "execution_count": 9,
     "metadata": {},
     "output_type": "execute_result"
    }
   ],
   "source": [
    "dups.shape # No dups"
   ]
  },
  {
   "cell_type": "code",
   "execution_count": 10,
   "id": "ea699c19",
   "metadata": {},
   "outputs": [
    {
     "name": "stderr",
     "output_type": "stream",
     "text": [
      "C:\\Users\\deuts\\anaconda3\\lib\\site-packages\\seaborn\\distributions.py:2619: FutureWarning: `distplot` is a deprecated function and will be removed in a future version. Please adapt your code to use either `displot` (a figure-level function with similar flexibility) or `histplot` (an axes-level function for histograms).\n",
      "  warnings.warn(msg, FutureWarning)\n"
     ]
    },
    {
     "data": {
      "text/plain": [
       "<AxesSubplot:xlabel='price', ylabel='Density'>"
      ]
     },
     "execution_count": 10,
     "metadata": {},
     "output_type": "execute_result"
    },
    {
     "data": {
      "image/png": "[encoded data removed]",
      "text/plain": [
       "<Figure size 432x288 with 1 Axes>"
      ]
     },
     "metadata": {
      "needs_background": "light"
     },
     "output_type": "display_data"
    }
   ],
   "source": [
    "sns.distplot(df['price'], bins=25) # Checking for extreme values\n",
    "\n",
    "# Some of the outliers in the high values  may need to be removed, but let's try without doing so first as these high\n",
    "# can easily be real values."
   ]
  },
  {
   "cell_type": "code",
   "execution_count": 11,
   "id": "81cb70c2",
   "metadata": {},
   "outputs": [
    {
     "data": {
      "text/plain": [
       "count    5213.000000\n",
       "mean      990.957990\n",
       "std       525.615798\n",
       "min        98.000000\n",
       "25%       598.000000\n",
       "50%       902.000000\n",
       "75%      1197.000000\n",
       "max      2992.000000\n",
       "Name: price, dtype: float64"
      ]
     },
     "execution_count": 11,
     "metadata": {},
     "output_type": "execute_result"
    }
   ],
   "source": [
    "# Checking descriptive statistics for the 'price' variable\n",
    "df['price'].describe()"
   ]
  },
  {
   "cell_type": "code",
   "execution_count": 12,
   "id": "52f01b80",
   "metadata": {},
   "outputs": [
    {
     "data": {
      "text/plain": [
       "count    5213.000000\n",
       "mean        1.400537\n",
       "std         1.009707\n",
       "min         0.000000\n",
       "25%         1.000000\n",
       "50%         1.000000\n",
       "75%         2.000000\n",
       "max        10.000000\n",
       "Name: bedrooms, dtype: float64"
      ]
     },
     "execution_count": 12,
     "metadata": {},
     "output_type": "execute_result"
    }
   ],
   "source": [
    "# Checking descriptive statistics for the 'bedrooms' variable\n",
    "df['bedrooms'].describe()"
   ]
  },
  {
   "cell_type": "code",
   "execution_count": 13,
   "id": "253ea5e4",
   "metadata": {},
   "outputs": [
    {
     "data": {
      "text/plain": [
       "1.0     3072\n",
       "2.0      881\n",
       "0.0      548\n",
       "3.0      452\n",
       "4.0      207\n",
       "5.0       43\n",
       "6.0        8\n",
       "10.0       2\n",
       "Name: bedrooms, dtype: int64"
      ]
     },
     "execution_count": 13,
     "metadata": {},
     "output_type": "execute_result"
    }
   ],
   "source": [
    "df['bedrooms'].value_counts()"
   ]
  },
  {
   "cell_type": "markdown",
   "id": "e121ef08",
   "metadata": {},
   "source": [
    "### 3. Data prep for regression analysis  <a name=\"paragraph2\"></a>"
   ]
  },
  {
   "cell_type": "code",
   "execution_count": 14,
   "id": "112e513e",
   "metadata": {},
   "outputs": [
    {
     "data": {
      "image/png": "[encoded data removed]",
      "text/plain": [
       "<Figure size 432x288 with 1 Axes>"
      ]
     },
     "metadata": {
      "needs_background": "light"
     },
     "output_type": "display_data"
    }
   ],
   "source": [
    "# Create a scatterplot using matplotlib for another look at how the chosen variables plot against each other.\n",
    "\n",
    "df.plot(x = 'bedrooms', y='price',style='o') # The style option creates a scatterplot; without it, we only have lines.\n",
    "plt.title('Number of bedrooms of listing vs Price per listing')  \n",
    "plt.xlabel('bedrooms')  \n",
    "plt.ylabel('price')  \n",
    "plt.show()"
   ]
  },
  {
   "cell_type": "code",
   "execution_count": 15,
   "id": "2792627a",
   "metadata": {},
   "outputs": [],
   "source": [
    "# Reshaping the variables into NumPy arrays and put them into separate objects.\n",
    "X = df['bedrooms'].values.reshape(-1,1)\n",
    "y = df['price'].values.reshape(-1,1)"
   ]
  },
  {
   "cell_type": "code",
   "execution_count": 16,
   "id": "4ba59e2c",
   "metadata": {},
   "outputs": [
    {
     "data": {
      "text/plain": [
       "array([[1.],\n",
       "       [1.],\n",
       "       [1.],\n",
       "       ...,\n",
       "       [1.],\n",
       "       [1.],\n",
       "       [2.]])"
      ]
     },
     "execution_count": 16,
     "metadata": {},
     "output_type": "execute_result"
    }
   ],
   "source": [
    "X"
   ]
  },
  {
   "cell_type": "code",
   "execution_count": 17,
   "id": "6e594152",
   "metadata": {},
   "outputs": [
    {
     "data": {
      "text/plain": [
       "array([[1285.],\n",
       "       [ 745.],\n",
       "       [ 667.],\n",
       "       ...,\n",
       "       [ 245.],\n",
       "       [ 461.],\n",
       "       [2491.]])"
      ]
     },
     "execution_count": 17,
     "metadata": {},
     "output_type": "execute_result"
    }
   ],
   "source": [
    "y"
   ]
  },
  {
   "cell_type": "code",
   "execution_count": 18,
   "id": "d8e2a60a",
   "metadata": {},
   "outputs": [],
   "source": [
    "# Spliting data into a training set and a test set.\n",
    "\n",
    "X_train, X_test, y_train, y_test = train_test_split(X, y, test_size=0.3, random_state=0)"
   ]
  },
  {
   "cell_type": "markdown",
   "id": "9499f7c7",
   "metadata": {},
   "source": [
    "### 4.  Regression analysis <a name=\"paragraph3\"></a>"
   ]
  },
  {
   "cell_type": "code",
   "execution_count": 19,
   "id": "33d2ee44",
   "metadata": {},
   "outputs": [],
   "source": [
    "# Creating a regression object\n",
    "regression = LinearRegression()"
   ]
  },
  {
   "cell_type": "code",
   "execution_count": 20,
   "id": "3f94fd97",
   "metadata": {},
   "outputs": [
    {
     "data": {
      "text/plain": [
       "LinearRegression()"
      ]
     },
     "execution_count": 20,
     "metadata": {},
     "output_type": "execute_result"
    }
   ],
   "source": [
    "# Fiting the regression object onto the training set\n",
    "regression.fit(X_train, y_train)"
   ]
  },
  {
   "cell_type": "code",
   "execution_count": 21,
   "id": "9d303bdc",
   "metadata": {},
   "outputs": [],
   "source": [
    "# Predicting the values of y using X\n",
    "y_predicted = regression.predict(X_test)"
   ]
  },
  {
   "cell_type": "code",
   "execution_count": 22,
   "id": "8918e0d2",
   "metadata": {},
   "outputs": [
    {
     "data": {
      "image/png": "[encoded data removed]",
      "text/plain": [
       "<Figure size 432x288 with 1 Axes>"
      ]
     },
     "metadata": {
      "needs_background": "light"
     },
     "output_type": "display_data"
    }
   ],
   "source": [
    "# Creating a plot that shows the regression line from the model on the test set\n",
    "plot_test = plt\n",
    "plot_test.scatter(X_test, y_test, color='gray', s = 15)\n",
    "plot_test.plot(X_test, y_predicted, color='red', linewidth =3)\n",
    "plot_test.title('Number of bedrooms of listing vs Price per listing')\n",
    "plot_test.xlabel('bedrooms')\n",
    "plot_test.ylabel('price')\n",
    "plot_test.show()"
   ]
  },
  {
   "cell_type": "code",
   "execution_count": 23,
   "id": "851a80ef",
   "metadata": {},
   "outputs": [],
   "source": [
    "# Creating objects that contain the model summary statistics\n",
    "rmse = mean_squared_error(y_test, y_predicted) \n",
    "r2 = r2_score(y_test, y_predicted)"
   ]
  },
  {
   "cell_type": "code",
   "execution_count": 24,
   "id": "8424d571",
   "metadata": {},
   "outputs": [
    {
     "name": "stdout",
     "output_type": "stream",
     "text": [
      "Slope: [[263.6442192]]\n",
      "Mean squared error:  199878.2717357255\n",
      "R2 score:  0.2652683387819744\n"
     ]
    }
   ],
   "source": [
    "# Printing the model summary statistics\n",
    "print('Slope:' ,regression.coef_)\n",
    "print('Mean squared error: ', rmse)\n",
    "print('R2 score: ', r2)"
   ]
  },
  {
   "cell_type": "markdown",
   "id": "bcf498ee",
   "metadata": {},
   "source": [
    "#### Slope: There is a positive relationship, so the coefficient is positve, too\n",
    "#### MSE: It's quite large, a regression may not be the best model to represent this data and can’t accurately predict the influence of the number of bedrooms of a Airbnbn listing on it's price per listing.\n",
    "#### R2:  0.27 is close to 0, which indicates a poor fit of the model."
   ]
  },
  {
   "cell_type": "code",
   "execution_count": 25,
   "id": "6912b77e",
   "metadata": {},
   "outputs": [
    {
     "data": {
      "text/plain": [
       "array([[ 887.0896868 ],\n",
       "       [ 887.0896868 ],\n",
       "       [ 887.0896868 ],\n",
       "       ...,\n",
       "       [1414.37812521],\n",
       "       [ 623.4454676 ],\n",
       "       [1150.733906  ]])"
      ]
     },
     "execution_count": 25,
     "metadata": {},
     "output_type": "execute_result"
    }
   ],
   "source": [
    "y_predicted"
   ]
  },
  {
   "cell_type": "code",
   "execution_count": 26,
   "id": "1b47041d",
   "metadata": {},
   "outputs": [
    {
     "data": {
      "text/html": [
       "<div>\n",
       "<style scoped>\n",
       "    .dataframe tbody tr th:only-of-type {\n",
       "        vertical-align: middle;\n",
       "    }\n",
       "\n",
       "    .dataframe tbody tr th {\n",
       "        vertical-align: top;\n",
       "    }\n",
       "\n",
       "    .dataframe thead th {\n",
       "        text-align: right;\n",
       "    }\n",
       "</style>\n",
       "<table border=\"1\" class=\"dataframe\">\n",
       "  <thead>\n",
       "    <tr style=\"text-align: right;\">\n",
       "      <th></th>\n",
       "      <th>Actual</th>\n",
       "      <th>Predicted</th>\n",
       "    </tr>\n",
       "  </thead>\n",
       "  <tbody>\n",
       "    <tr>\n",
       "      <th>0</th>\n",
       "      <td>745.0</td>\n",
       "      <td>887.089687</td>\n",
       "    </tr>\n",
       "    <tr>\n",
       "      <th>1</th>\n",
       "      <td>245.0</td>\n",
       "      <td>887.089687</td>\n",
       "    </tr>\n",
       "    <tr>\n",
       "      <th>2</th>\n",
       "      <td>893.0</td>\n",
       "      <td>887.089687</td>\n",
       "    </tr>\n",
       "    <tr>\n",
       "      <th>3</th>\n",
       "      <td>383.0</td>\n",
       "      <td>887.089687</td>\n",
       "    </tr>\n",
       "    <tr>\n",
       "      <th>4</th>\n",
       "      <td>1373.0</td>\n",
       "      <td>887.089687</td>\n",
       "    </tr>\n",
       "    <tr>\n",
       "      <th>5</th>\n",
       "      <td>598.0</td>\n",
       "      <td>1414.378125</td>\n",
       "    </tr>\n",
       "    <tr>\n",
       "      <th>6</th>\n",
       "      <td>902.0</td>\n",
       "      <td>887.089687</td>\n",
       "    </tr>\n",
       "    <tr>\n",
       "      <th>7</th>\n",
       "      <td>1599.0</td>\n",
       "      <td>1150.733906</td>\n",
       "    </tr>\n",
       "    <tr>\n",
       "      <th>8</th>\n",
       "      <td>598.0</td>\n",
       "      <td>887.089687</td>\n",
       "    </tr>\n",
       "    <tr>\n",
       "      <th>9</th>\n",
       "      <td>1285.0</td>\n",
       "      <td>1150.733906</td>\n",
       "    </tr>\n",
       "    <tr>\n",
       "      <th>10</th>\n",
       "      <td>1030.0</td>\n",
       "      <td>887.089687</td>\n",
       "    </tr>\n",
       "    <tr>\n",
       "      <th>11</th>\n",
       "      <td>696.0</td>\n",
       "      <td>887.089687</td>\n",
       "    </tr>\n",
       "    <tr>\n",
       "      <th>12</th>\n",
       "      <td>304.0</td>\n",
       "      <td>887.089687</td>\n",
       "    </tr>\n",
       "    <tr>\n",
       "      <th>13</th>\n",
       "      <td>1197.0</td>\n",
       "      <td>1414.378125</td>\n",
       "    </tr>\n",
       "    <tr>\n",
       "      <th>14</th>\n",
       "      <td>1403.0</td>\n",
       "      <td>1678.022344</td>\n",
       "    </tr>\n",
       "    <tr>\n",
       "      <th>15</th>\n",
       "      <td>647.0</td>\n",
       "      <td>887.089687</td>\n",
       "    </tr>\n",
       "    <tr>\n",
       "      <th>16</th>\n",
       "      <td>451.0</td>\n",
       "      <td>887.089687</td>\n",
       "    </tr>\n",
       "    <tr>\n",
       "      <th>17</th>\n",
       "      <td>1305.0</td>\n",
       "      <td>1150.733906</td>\n",
       "    </tr>\n",
       "    <tr>\n",
       "      <th>18</th>\n",
       "      <td>1099.0</td>\n",
       "      <td>887.089687</td>\n",
       "    </tr>\n",
       "    <tr>\n",
       "      <th>19</th>\n",
       "      <td>1099.0</td>\n",
       "      <td>887.089687</td>\n",
       "    </tr>\n",
       "    <tr>\n",
       "      <th>20</th>\n",
       "      <td>432.0</td>\n",
       "      <td>887.089687</td>\n",
       "    </tr>\n",
       "    <tr>\n",
       "      <th>21</th>\n",
       "      <td>1079.0</td>\n",
       "      <td>887.089687</td>\n",
       "    </tr>\n",
       "    <tr>\n",
       "      <th>22</th>\n",
       "      <td>902.0</td>\n",
       "      <td>887.089687</td>\n",
       "    </tr>\n",
       "    <tr>\n",
       "      <th>23</th>\n",
       "      <td>304.0</td>\n",
       "      <td>887.089687</td>\n",
       "    </tr>\n",
       "    <tr>\n",
       "      <th>24</th>\n",
       "      <td>951.0</td>\n",
       "      <td>623.445468</td>\n",
       "    </tr>\n",
       "  </tbody>\n",
       "</table>\n",
       "</div>"
      ],
      "text/plain": [
       "    Actual    Predicted\n",
       "0    745.0   887.089687\n",
       "1    245.0   887.089687\n",
       "2    893.0   887.089687\n",
       "3    383.0   887.089687\n",
       "4   1373.0   887.089687\n",
       "5    598.0  1414.378125\n",
       "6    902.0   887.089687\n",
       "7   1599.0  1150.733906\n",
       "8    598.0   887.089687\n",
       "9   1285.0  1150.733906\n",
       "10  1030.0   887.089687\n",
       "11   696.0   887.089687\n",
       "12   304.0   887.089687\n",
       "13  1197.0  1414.378125\n",
       "14  1403.0  1678.022344\n",
       "15   647.0   887.089687\n",
       "16   451.0   887.089687\n",
       "17  1305.0  1150.733906\n",
       "18  1099.0   887.089687\n",
       "19  1099.0   887.089687\n",
       "20   432.0   887.089687\n",
       "21  1079.0   887.089687\n",
       "22   902.0   887.089687\n",
       "23   304.0   887.089687\n",
       "24   951.0   623.445468"
      ]
     },
     "execution_count": 26,
     "metadata": {},
     "output_type": "execute_result"
    }
   ],
   "source": [
    "# Creating a dataframe comparing the actual and predicted values of y\n",
    "data = pd.DataFrame({'Actual': y_test.flatten(), 'Predicted': y_predicted.flatten()})\n",
    "data.head(25)"
   ]
  },
  {
   "cell_type": "markdown",
   "id": "49a6172e",
   "metadata": {},
   "source": [
    "#### Here it gets even clearer, the predicted values do not match the actual ones at all, so the modell is not a good fit."
   ]
  },
  {
   "cell_type": "code",
   "execution_count": 27,
   "id": "4c07e86e",
   "metadata": {},
   "outputs": [],
   "source": [
    "# Predicting\n",
    "y_predicted_train = regression.predict(X_train)"
   ]
  },
  {
   "cell_type": "code",
   "execution_count": 28,
   "id": "10c8a0fe",
   "metadata": {},
   "outputs": [],
   "source": [
    "rmse = mean_squared_error(y_train, y_predicted_train)\n",
    "r2 = r2_score(y_train, y_predicted_train)"
   ]
  },
  {
   "cell_type": "code",
   "execution_count": 29,
   "id": "393676cc",
   "metadata": {},
   "outputs": [
    {
     "name": "stdout",
     "output_type": "stream",
     "text": [
      "Slope: [[263.6442192]]\n",
      "Mean squared error:  206350.11265673008\n",
      "R2 score:  0.25766593514232305\n"
     ]
    }
   ],
   "source": [
    "print('Slope:' ,regression.coef_)\n",
    "print('Mean squared error: ', rmse)\n",
    "print('R2 score: ', r2)"
   ]
  },
  {
   "cell_type": "code",
   "execution_count": 30,
   "id": "d236f896",
   "metadata": {},
   "outputs": [
    {
     "data": {
      "image/png": "[encoded data removed]",
      "text/plain": [
       "<Figure size 432x288 with 1 Axes>"
      ]
     },
     "metadata": {
      "needs_background": "light"
     },
     "output_type": "display_data"
    }
   ],
   "source": [
    "# Visualizing the training set results\n",
    "plot_test = plt\n",
    "plot_test.scatter(X_train, y_train, color='green', s = 15)\n",
    "plot_test.plot(X_train, y_predicted_train, color='red', linewidth =3)\n",
    "plot_test.title('Number of bedrooms of listing vs Price per listing')\n",
    "plot_test.xlabel('bedrooms')\n",
    "plot_test.ylabel('price')\n",
    "plot_test.show()"
   ]
  },
  {
   "cell_type": "markdown",
   "id": "063d131b",
   "metadata": {},
   "source": [
    "#### There is a wide dispersion of points, as this is also where the highest density of points within your data is, this just further confirms a single regression line not being the most accurate prediction model. There is need of a model with more dimensionality to accurately predict listing prices."
   ]
  },
  {
   "cell_type": "code",
   "execution_count": 31,
   "id": "8d05c251",
   "metadata": {},
   "outputs": [],
   "source": [
    "# Get quantile for columns with outliers from original data frame\n",
    "q1 = df['price'].quantile(0.99)\n",
    "q2 = df['bedrooms'].quantile(0.99)"
   ]
  },
  {
   "cell_type": "code",
   "execution_count": 32,
   "id": "e3e7190b",
   "metadata": {},
   "outputs": [],
   "source": [
    "# Creating clean original data frame without outliers\n",
    "df_clean = df[df['price'] < q1]\n",
    "df_clean = df_clean[df_clean['bedrooms'] < q2]"
   ]
  },
  {
   "cell_type": "code",
   "execution_count": 33,
   "id": "20a6969a",
   "metadata": {},
   "outputs": [
    {
     "data": {
      "text/html": [
       "<div>\n",
       "<style scoped>\n",
       "    .dataframe tbody tr th:only-of-type {\n",
       "        vertical-align: middle;\n",
       "    }\n",
       "\n",
       "    .dataframe tbody tr th {\n",
       "        vertical-align: top;\n",
       "    }\n",
       "\n",
       "    .dataframe thead th {\n",
       "        text-align: right;\n",
       "    }\n",
       "</style>\n",
       "<table border=\"1\" class=\"dataframe\">\n",
       "  <thead>\n",
       "    <tr style=\"text-align: right;\">\n",
       "      <th></th>\n",
       "      <th>id</th>\n",
       "      <th>host_id</th>\n",
       "      <th>bedrooms</th>\n",
       "      <th>price</th>\n",
       "      <th>minimum_nights</th>\n",
       "      <th>availability_365</th>\n",
       "      <th>number_of_reviews</th>\n",
       "      <th>review_scores_rating</th>\n",
       "      <th>host_listings</th>\n",
       "      <th>reviews_per_month</th>\n",
       "    </tr>\n",
       "  </thead>\n",
       "  <tbody>\n",
       "    <tr>\n",
       "      <th>count</th>\n",
       "      <td>5.108000e+03</td>\n",
       "      <td>5.108000e+03</td>\n",
       "      <td>5108.000000</td>\n",
       "      <td>5108.000000</td>\n",
       "      <td>5108.000000</td>\n",
       "      <td>5108.000000</td>\n",
       "      <td>5108.000000</td>\n",
       "      <td>5108.000000</td>\n",
       "      <td>5108.000000</td>\n",
       "      <td>5108.000000</td>\n",
       "    </tr>\n",
       "    <tr>\n",
       "      <th>mean</th>\n",
       "      <td>1.878889e+07</td>\n",
       "      <td>6.845554e+07</td>\n",
       "      <td>1.345928</td>\n",
       "      <td>962.390368</td>\n",
       "      <td>3.083790</td>\n",
       "      <td>57.629209</td>\n",
       "      <td>15.690486</td>\n",
       "      <td>95.647024</td>\n",
       "      <td>1.271926</td>\n",
       "      <td>0.626860</td>\n",
       "    </tr>\n",
       "    <tr>\n",
       "      <th>std</th>\n",
       "      <td>1.062114e+07</td>\n",
       "      <td>7.249444e+07</td>\n",
       "      <td>0.914576</td>\n",
       "      <td>484.937639</td>\n",
       "      <td>2.539453</td>\n",
       "      <td>102.548310</td>\n",
       "      <td>21.699091</td>\n",
       "      <td>6.560030</td>\n",
       "      <td>1.014222</td>\n",
       "      <td>1.252747</td>\n",
       "    </tr>\n",
       "    <tr>\n",
       "      <th>min</th>\n",
       "      <td>1.453200e+05</td>\n",
       "      <td>9.842000e+03</td>\n",
       "      <td>0.000000</td>\n",
       "      <td>98.000000</td>\n",
       "      <td>1.000000</td>\n",
       "      <td>0.000000</td>\n",
       "      <td>1.000000</td>\n",
       "      <td>20.000000</td>\n",
       "      <td>1.000000</td>\n",
       "      <td>0.000000</td>\n",
       "    </tr>\n",
       "    <tr>\n",
       "      <th>25%</th>\n",
       "      <td>9.520856e+06</td>\n",
       "      <td>1.475342e+07</td>\n",
       "      <td>1.000000</td>\n",
       "      <td>598.000000</td>\n",
       "      <td>2.000000</td>\n",
       "      <td>0.000000</td>\n",
       "      <td>3.000000</td>\n",
       "      <td>94.000000</td>\n",
       "      <td>1.000000</td>\n",
       "      <td>0.000000</td>\n",
       "    </tr>\n",
       "    <tr>\n",
       "      <th>50%</th>\n",
       "      <td>1.893926e+07</td>\n",
       "      <td>3.731034e+07</td>\n",
       "      <td>1.000000</td>\n",
       "      <td>893.000000</td>\n",
       "      <td>2.000000</td>\n",
       "      <td>0.000000</td>\n",
       "      <td>7.000000</td>\n",
       "      <td>98.000000</td>\n",
       "      <td>1.000000</td>\n",
       "      <td>0.000000</td>\n",
       "    </tr>\n",
       "    <tr>\n",
       "      <th>75%</th>\n",
       "      <td>2.671598e+07</td>\n",
       "      <td>9.841109e+07</td>\n",
       "      <td>2.000000</td>\n",
       "      <td>1197.000000</td>\n",
       "      <td>4.000000</td>\n",
       "      <td>67.000000</td>\n",
       "      <td>18.000000</td>\n",
       "      <td>100.000000</td>\n",
       "      <td>1.000000</td>\n",
       "      <td>1.000000</td>\n",
       "    </tr>\n",
       "    <tr>\n",
       "      <th>max</th>\n",
       "      <td>3.796416e+07</td>\n",
       "      <td>2.871015e+08</td>\n",
       "      <td>4.000000</td>\n",
       "      <td>2570.000000</td>\n",
       "      <td>21.000000</td>\n",
       "      <td>365.000000</td>\n",
       "      <td>135.000000</td>\n",
       "      <td>100.000000</td>\n",
       "      <td>10.000000</td>\n",
       "      <td>9.000000</td>\n",
       "    </tr>\n",
       "  </tbody>\n",
       "</table>\n",
       "</div>"
      ],
      "text/plain": [
       "                 id       host_id     bedrooms        price  minimum_nights  \\\n",
       "count  5.108000e+03  5.108000e+03  5108.000000  5108.000000     5108.000000   \n",
       "mean   1.878889e+07  6.845554e+07     1.345928   962.390368        3.083790   \n",
       "std    1.062114e+07  7.249444e+07     0.914576   484.937639        2.539453   \n",
       "min    1.453200e+05  9.842000e+03     0.000000    98.000000        1.000000   \n",
       "25%    9.520856e+06  1.475342e+07     1.000000   598.000000        2.000000   \n",
       "50%    1.893926e+07  3.731034e+07     1.000000   893.000000        2.000000   \n",
       "75%    2.671598e+07  9.841109e+07     2.000000  1197.000000        4.000000   \n",
       "max    3.796416e+07  2.871015e+08     4.000000  2570.000000       21.000000   \n",
       "\n",
       "       availability_365  number_of_reviews  review_scores_rating  \\\n",
       "count       5108.000000        5108.000000           5108.000000   \n",
       "mean          57.629209          15.690486             95.647024   \n",
       "std          102.548310          21.699091              6.560030   \n",
       "min            0.000000           1.000000             20.000000   \n",
       "25%            0.000000           3.000000             94.000000   \n",
       "50%            0.000000           7.000000             98.000000   \n",
       "75%           67.000000          18.000000            100.000000   \n",
       "max          365.000000         135.000000            100.000000   \n",
       "\n",
       "       host_listings  reviews_per_month  \n",
       "count    5108.000000        5108.000000  \n",
       "mean        1.271926           0.626860  \n",
       "std         1.014222           1.252747  \n",
       "min         1.000000           0.000000  \n",
       "25%         1.000000           0.000000  \n",
       "50%         1.000000           0.000000  \n",
       "75%         1.000000           1.000000  \n",
       "max        10.000000           9.000000  "
      ]
     },
     "execution_count": 33,
     "metadata": {},
     "output_type": "execute_result"
    }
   ],
   "source": [
    "df_clean.describe()"
   ]
  },
  {
   "cell_type": "code",
   "execution_count": 34,
   "id": "26d55c3a",
   "metadata": {},
   "outputs": [
    {
     "data": {
      "image/png": "[encoded data removed]",
      "text/plain": [
       "<Figure size 432x288 with 1 Axes>"
      ]
     },
     "metadata": {
      "needs_background": "light"
     },
     "output_type": "display_data"
    }
   ],
   "source": [
    "# See how the scatterplot looks without outliers.\n",
    "\n",
    "df_clean.plot(x = 'bedrooms', y='price', style='o')  \n",
    "plt.title('Number of bedrooms of listing vs Price per listing')  \n",
    "plt.xlabel('bedrooms')  \n",
    "plt.ylabel('price')  \n",
    "plt.show()"
   ]
  },
  {
   "cell_type": "code",
   "execution_count": 35,
   "id": "d8bbf8e6",
   "metadata": {},
   "outputs": [],
   "source": [
    "# Reshape again.\n",
    "X_2 = df_clean['bedrooms'].values.reshape(-1,1)\n",
    "y_2 = df_clean['price'].values.reshape(-1,1)"
   ]
  },
  {
   "cell_type": "code",
   "execution_count": 36,
   "id": "07c33cc3",
   "metadata": {},
   "outputs": [],
   "source": [
    "X_train_2, X_test_2, y_train_2, y_test_2 = train_test_split(X_2, y_2, test_size=0.3, random_state=0)"
   ]
  },
  {
   "cell_type": "code",
   "execution_count": 37,
   "id": "19d776bf",
   "metadata": {},
   "outputs": [
    {
     "data": {
      "text/plain": [
       "LinearRegression()"
      ]
     },
     "execution_count": 37,
     "metadata": {},
     "output_type": "execute_result"
    }
   ],
   "source": [
    "# Run and fit the regression.\n",
    "regression = LinearRegression()  \n",
    "regression.fit(X_train_2, y_train_2)"
   ]
  },
  {
   "cell_type": "code",
   "execution_count": 38,
   "id": "75cdd0b2",
   "metadata": {},
   "outputs": [],
   "source": [
    "# Predicting\n",
    "y_predicted_2 = regression.predict(X_test_2)"
   ]
  },
  {
   "cell_type": "code",
   "execution_count": 39,
   "id": "ba540d15",
   "metadata": {},
   "outputs": [],
   "source": [
    "rmse = mean_squared_error(y_test_2, y_predicted_2)\n",
    "r2 = r2_score(y_test_2, y_predicted_2)"
   ]
  },
  {
   "cell_type": "code",
   "execution_count": 40,
   "id": "802fdc8b",
   "metadata": {},
   "outputs": [
    {
     "name": "stdout",
     "output_type": "stream",
     "text": [
      "Slope: [[256.93180284]]\n",
      "Mean squared error:  177792.21431681668\n",
      "R2 score:  0.18537740829615434\n"
     ]
    }
   ],
   "source": [
    "print('Slope:' ,regression.coef_)\n",
    "print('Mean squared error: ', rmse)\n",
    "print('R2 score: ', r2)"
   ]
  },
  {
   "cell_type": "code",
   "execution_count": 41,
   "id": "1ae9d7b1",
   "metadata": {},
   "outputs": [
    {
     "data": {
      "image/png": "[encoded data removed]",
      "text/plain": [
       "<Figure size 432x288 with 1 Axes>"
      ]
     },
     "metadata": {
      "needs_background": "light"
     },
     "output_type": "display_data"
    }
   ],
   "source": [
    "# Visualizing the test set results\n",
    "plot_test = plt\n",
    "plot_test.scatter(X_test, y_test, color='gray', s = 15)\n",
    "plot_test.plot(X_train, regression.predict(X_train), color='red', linewidth =3)\n",
    "plot_test.title('Number of bedrooms of listing vs Price per listing')\n",
    "plot_test.xlabel('bedrooms')\n",
    "plot_test.ylabel('price')\n",
    "plot_test.show()"
   ]
  },
  {
   "cell_type": "code",
   "execution_count": 42,
   "id": "54d390ff",
   "metadata": {},
   "outputs": [],
   "source": [
    "# There is not a big differnce, when removing some of the extreme values, and these also shouldn't be removed as these are \n",
    "# real prices."
   ]
  },
  {
   "cell_type": "markdown",
   "id": "e0623d1d",
   "metadata": {},
   "source": [
    "### 5.  Summary <a name=\"paragraph4\"></a>"
   ]
  },
  {
   "cell_type": "markdown",
   "id": "656453e0",
   "metadata": {},
   "source": [
    "#### It is pretty clear, that the used model is not sufficiant and a good fit to modell the price per listing. There is need of a model with more dimensionality to accurately predict listing prices.\n",
    "#### Which makes sense as number of bedrooms is only one dimension, that affects the price, there much more, such as distance to public transportation or central spots in the city or the the furnishings as well as the size of the listing and probably some more.\n",
    "#### So to further investigate what affects the price of the listings, such factors should be taken into considoration by creating a model with more dimensionality.\n",
    "#### Also there is a problem with the number of bedrooms, since there is probably a turning point, in which there no demand for more beds/bedrooms, that needs to be considered. Furthermore there could be a collection bias when counting the number of bedrooms, since there is no documentation what defines a bedroom, for example, is a living room with a bed/sleeping couch also a bedroom and so on."
   ]
  },
  {
   "cell_type": "code",
   "execution_count": null,
   "id": "b57cd7f7",
   "metadata": {},
   "outputs": [],
   "source": []
  }
 ],
 "metadata": {
  "kernelspec": {
   "display_name": "Python 3 (ipykernel)",
   "language": "python",
   "name": "python3"
  },
  "language_info": {
   "codemirror_mode": {
    "name": "ipython",
    "version": 3
   },
   "file_extension": ".py",
   "mimetype": "text/x-python",
   "name": "python",
   "nbconvert_exporter": "python",
   "pygments_lexer": "ipython3",
   "version": "3.9.12"
  }
 },
 "nbformat": 4,
 "nbformat_minor": 5
}
